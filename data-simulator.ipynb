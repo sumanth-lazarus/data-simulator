{
 "cells": [
  {
   "cell_type": "code",
   "execution_count": 110,
   "id": "54cfc248",
   "metadata": {},
   "outputs": [],
   "source": [
    "import gym\n",
    "import highway_env\n",
    "import pprint\n",
    "\n",
    "\n",
    "from matplotlib import pyplot as plt\n",
    "%matplotlib inline\n",
    "\n",
    "import warnings\n",
    "warnings.filterwarnings(\"ignore\")"
   ]
  },
  {
   "cell_type": "markdown",
   "id": "d54b1a8e",
   "metadata": {},
   "source": [
    "### HighwayEnv"
   ]
  },
  {
   "cell_type": "code",
   "execution_count": 113,
   "id": "791d190e",
   "metadata": {},
   "outputs": [],
   "source": [
    "class HighwayEnvWrapper(gym.Env):\n",
    "    def __init__(self):\n",
    "        self.env = gym.make('highway-v0')\n",
    "        self.observation_space = self.env.observation_space\n",
    "        self.action_space = self.env.action_space\n",
    "        self.env.configure({\n",
    "            \"duration\" : 3,\n",
    "            \"vehicles_count\" : 0,\n",
    "            \"simulation_frequency\" : 30,\n",
    "        })\n",
    "        print(self.env.config)\n",
    "\n",
    "    def reset(self):\n",
    "        return self.env.reset()\n",
    "\n",
    "    def step(self, action):\n",
    "        obs, reward, done, truncated, info = self.env.step(action)\n",
    "        return obs, reward, done, truncated, info\n",
    "\n",
    "    def render(self, mode='human'):\n",
    "        return self.env.render(mode)"
   ]
  },
  {
   "cell_type": "code",
   "execution_count": null,
   "id": "f3dd7b31",
   "metadata": {},
   "outputs": [],
   "source": []
  },
  {
   "cell_type": "code",
   "execution_count": null,
   "id": "37a27a2a",
   "metadata": {},
   "outputs": [],
   "source": [
    "is_completed = False\n",
    "total_iteration = 20\n",
    "i = 0\n",
    "\n",
    "env = HighwayEnvWrapper()\n",
    "obs = env.reset()\n",
    "\n",
    "while i != total_iteration:\n",
    "    action = env.action_space.sample()\n",
    "    obs, reward, done, truncated, info = env.step(action)\n",
    "    print(f\"Iteration: {i}\")\n",
    "    print(f\"Speed: {info['speed']}, Crashed: {info['crashed']}, Vehicles Count: {env.env.config['vehicles_count']}\\n\")\n",
    "    i += 1\n",
    "    \n",
    "env.close()"
   ]
  },
  {
   "cell_type": "code",
   "execution_count": null,
   "id": "bcb032ed",
   "metadata": {},
   "outputs": [],
   "source": []
  },
  {
   "cell_type": "code",
   "execution_count": null,
   "id": "dde4c111",
   "metadata": {},
   "outputs": [],
   "source": []
  },
  {
   "cell_type": "code",
   "execution_count": null,
   "id": "6450b43e",
   "metadata": {},
   "outputs": [],
   "source": []
  },
  {
   "cell_type": "markdown",
   "id": "ddd5a65c",
   "metadata": {},
   "source": [
    "### Intersection Env"
   ]
  },
  {
   "cell_type": "code",
   "execution_count": 124,
   "id": "ec48419d",
   "metadata": {
    "scrolled": true
   },
   "outputs": [],
   "source": [
    "class IntersectionWrapper(gym.Env):\n",
    "    def __init__(self):\n",
    "        self.env = gym.make('intersection-v0')\n",
    "        self.action_space = self.env.action_space\n",
    "        self.observation_space = self.env.observation_space\n",
    "        self.env.config['observation']['vehicles_count'] = 0\n",
    "#         self.env.config['initial_vehicle_count'] = 4     \n",
    "        self.env.configure({\n",
    "            \"duration\" : 3,\n",
    "            \"simulation_frequency\" : 30, # works\n",
    "        })\n",
    "\n",
    "    def reset(self):        \n",
    "        return self.env.reset()\n",
    "\n",
    "    def step(self, action):\n",
    "        obs, reward, done, truncated, info = self.env.step(action)\n",
    "        return obs, reward, done, truncated, info\n",
    "\n",
    "    def render(self, mode='human'):\n",
    "        return self.env.render(mode)"
   ]
  },
  {
   "cell_type": "code",
   "execution_count": 126,
   "id": "0988682a",
   "metadata": {},
   "outputs": [
    {
     "name": "stdout",
     "output_type": "stream",
     "text": [
      "Iteration: 0\n",
      "Speed: 5.490045553812556, Crashed: False, Initial Vehicle Count: 10, Vehicles Count: 0\n",
      "Iteration: 1\n",
      "Speed: 8.368179128448638, Crashed: False, Initial Vehicle Count: 10, Vehicles Count: 0\n",
      "Iteration: 2\n",
      "Speed: 8.886267010057201, Crashed: False, Initial Vehicle Count: 10, Vehicles Count: 0\n",
      "Iteration: 3\n",
      "Speed: 8.979527119815511, Crashed: True, Initial Vehicle Count: 10, Vehicles Count: 0\n",
      "Iteration: 4\n",
      "Speed: 3.247549368322054, Crashed: True, Initial Vehicle Count: 10, Vehicles Count: 0\n",
      "Iteration: 5\n",
      "Speed: 1.174513619588651, Crashed: True, Initial Vehicle Count: 10, Vehicles Count: 0\n",
      "Iteration: 6\n",
      "Speed: 0.4247763732417058, Crashed: True, Initial Vehicle Count: 10, Vehicles Count: 0\n",
      "Iteration: 7\n",
      "Speed: 0.15362526602932924, Crashed: True, Initial Vehicle Count: 10, Vehicles Count: 0\n",
      "Iteration: 8\n",
      "Speed: 0.055560346218109756, Crashed: True, Initial Vehicle Count: 10, Vehicles Count: 0\n",
      "Iteration: 9\n",
      "Speed: 0.020094038901692642, Crashed: True, Initial Vehicle Count: 10, Vehicles Count: 0\n",
      "Iteration: 10\n",
      "Speed: 0.00726724052074264, Crashed: True, Initial Vehicle Count: 10, Vehicles Count: 0\n",
      "Iteration: 11\n",
      "Speed: 0.0026282812054213246, Crashed: True, Initial Vehicle Count: 10, Vehicles Count: 0\n",
      "Iteration: 12\n",
      "Speed: 0.0009505481585553824, Crashed: True, Initial Vehicle Count: 10, Vehicles Count: 0\n",
      "Iteration: 13\n",
      "Speed: 0.0003437766856412866, Crashed: True, Initial Vehicle Count: 10, Vehicles Count: 0\n",
      "Iteration: 14\n",
      "Speed: 0.000124330796421844, Crashed: True, Initial Vehicle Count: 10, Vehicles Count: 0\n",
      "Iteration: 15\n",
      "Speed: 4.496566400381148e-05, Crashed: True, Initial Vehicle Count: 10, Vehicles Count: 0\n",
      "Iteration: 16\n",
      "Speed: 1.626235009742472e-05, Crashed: True, Initial Vehicle Count: 10, Vehicles Count: 0\n",
      "Iteration: 17\n",
      "Speed: 5.881466148677193e-06, Crashed: True, Initial Vehicle Count: 10, Vehicles Count: 0\n",
      "Iteration: 18\n",
      "Speed: 2.1270999487038236e-06, Crashed: True, Initial Vehicle Count: 10, Vehicles Count: 0\n",
      "Iteration: 19\n",
      "Speed: 7.69290186732339e-07, Crashed: True, Initial Vehicle Count: 10, Vehicles Count: 0\n"
     ]
    }
   ],
   "source": [
    "is_completed = False\n",
    "total_iteration = 20\n",
    "i = 0\n",
    "\n",
    "env = IntersectionWrapper()\n",
    "obs = env.reset()\n",
    "# print(f\"Start Vehicle Count: {env.env.config['observation']['vehicles_count']}\")\n",
    "\n",
    "while i != total_iteration:\n",
    "    action = env.action_space.sample()\n",
    "    obs, reward, done, truncated, info = env.step(action)\n",
    "    print(f\"Iteration: {i}\")\n",
    "    print(f\"Speed: {info['speed']}, Crashed: {info['crashed']}, Initial Vehicle Count: {env.env.config['initial_vehicle_count']}, Vehicles Count: {env.env.config['observation']['vehicles_count']}\")\n",
    "    i += 1\n",
    "    \n",
    "    \n",
    "env.close()"
   ]
  },
  {
   "cell_type": "code",
   "execution_count": null,
   "id": "4dc07b9a",
   "metadata": {},
   "outputs": [],
   "source": []
  },
  {
   "cell_type": "code",
   "execution_count": null,
   "id": "e33b1b23",
   "metadata": {},
   "outputs": [],
   "source": []
  },
  {
   "cell_type": "code",
   "execution_count": null,
   "id": "8425aa70",
   "metadata": {},
   "outputs": [],
   "source": []
  },
  {
   "cell_type": "code",
   "execution_count": null,
   "id": "5602208c",
   "metadata": {},
   "outputs": [],
   "source": []
  },
  {
   "cell_type": "code",
   "execution_count": null,
   "id": "8dfa9ab2",
   "metadata": {},
   "outputs": [],
   "source": []
  },
  {
   "cell_type": "code",
   "execution_count": null,
   "id": "8b18b4cd",
   "metadata": {},
   "outputs": [],
   "source": []
  },
  {
   "cell_type": "code",
   "execution_count": null,
   "id": "56ca77d0",
   "metadata": {},
   "outputs": [],
   "source": []
  },
  {
   "cell_type": "code",
   "execution_count": null,
   "id": "1d896dcb",
   "metadata": {},
   "outputs": [],
   "source": []
  },
  {
   "cell_type": "code",
   "execution_count": null,
   "id": "7aa1e3ae",
   "metadata": {},
   "outputs": [],
   "source": []
  },
  {
   "cell_type": "code",
   "execution_count": null,
   "id": "66970d85",
   "metadata": {},
   "outputs": [],
   "source": []
  },
  {
   "cell_type": "code",
   "execution_count": null,
   "id": "23fc0e91",
   "metadata": {},
   "outputs": [],
   "source": []
  },
  {
   "cell_type": "code",
   "execution_count": null,
   "id": "51669e67",
   "metadata": {},
   "outputs": [],
   "source": []
  }
 ],
 "metadata": {
  "kernelspec": {
   "display_name": "Python 3 (ipykernel)",
   "language": "python",
   "name": "python3"
  },
  "language_info": {
   "codemirror_mode": {
    "name": "ipython",
    "version": 3
   },
   "file_extension": ".py",
   "mimetype": "text/x-python",
   "name": "python",
   "nbconvert_exporter": "python",
   "pygments_lexer": "ipython3",
   "version": "3.9.13"
  }
 },
 "nbformat": 4,
 "nbformat_minor": 5
}
